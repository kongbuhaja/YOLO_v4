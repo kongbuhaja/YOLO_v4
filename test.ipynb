{
 "cells": [
  {
   "cell_type": "code",
   "execution_count": null,
   "metadata": {},
   "outputs": [],
   "source": [
    "import tensorflow as tf\n",
    "import numpy as np\n",
    "import matplotlib.pyplot as plt\n",
    "import cv2\n",
    "from utils.data_utils import DataLoader\n",
    "import random\n",
    "import os, yaml\n",
    "from utils.env_utils import env_set\n",
    "from datetime import datetime"
   ]
  },
  {
   "cell_type": "code",
   "execution_count": null,
   "metadata": {},
   "outputs": [],
   "source": [
    "def read_cfg():\n",
    "    \n",
    "    with open('yaml/config.yaml') as f:\n",
    "        cfg = yaml.load(f, Loader=yaml.FullLoader)\n",
    "\n",
    "    with open(f\"yaml/model/{cfg['model']['name']}.yaml\") as f:\n",
    "        model_cfg = yaml.load(f, Loader=yaml.FullLoader)\n",
    "    \n",
    "    for key, value in model_cfg.items():\n",
    "        cfg['model'][key] = value\n",
    "\n",
    "    with open(f\"yaml/data/{cfg['data']}.yaml\") as f:\n",
    "        cfg.update(yaml.load(f, Loader=yaml.FullLoader))\n",
    "\n",
    "    with open('yaml/aug.yaml') as f:\n",
    "        cfg.update(yaml.load(f, Loader=yaml.FullLoader))\n",
    "\n",
    "    # cfg['gpus'] = str(cfg['gpus'])\n",
    "    cfg['gpus'] = ''\n",
    "\n",
    "    cfg['model']['input_size'] = np.array(cfg['model']['input_size'])\n",
    "    cfg['model']['strides'] = np.array(cfg['model']['strides'])\n",
    "    cfg['model']['anchors'] = np.array(cfg['data']['anchors'][cfg['model']['anchors']]) * cfg['model']['input_size']\n",
    "\n",
    "    cfg['model']['dir'] = f\"{cfg['model']['dir']}/{cfg['data']['name']}/{cfg['model']['name']}\"\n",
    "    cfg['model']['train_checkpoint'] = f\"{cfg['model']['dir']}/train_loss/{cfg['model']['name']}\"\n",
    "    cfg['model']['loss_checkpoint'] = f\"{cfg['model']['dir']}/val_loss/{cfg['model']['name']}\"\n",
    "    cfg['model']['map_checkpoint'] = f\"{cfg['model']['dir']}/val_mAP/{cfg['model']['name']}\"\n",
    "    cfg['model']['checkpoint'] = cfg['model'][cfg['model']['checkpoint']]\n",
    "\n",
    "    cfg['eval']['dir'] = f\"{cfg['eval']['dir']}/{cfg['data']['name']}/{cfg['model']['name']}\"\n",
    "    cfg['eval']['image_dir'] = f\"{cfg['eval']['dir']}/image\"\n",
    "    cfg['eval']['video_dir'] = f\"{cfg['eval']['dir']}/video\"\n",
    "    if 'soft' in cfg['eval']['nms']:\n",
    "        cfg['eval']['score_th'] = 0.01\n",
    "    else:\n",
    "        cfg['eval']['score_th'] = 0.4    \n",
    "        \n",
    "    cfg['log']['dir'] = f\"{cfg['log']['dir']}/{cfg['model']['name']}[{cfg['data']['name']}]_{datetime.now().strftime('%Y-%m-%d|%H:%M:%S')}\"\n",
    "\n",
    "    env_set(cfg)\n",
    "    cfg['gpus'] = len(cfg['gpus'].split(','))\n",
    "    cfg['batch_size'] *= cfg['gpus']\n",
    "    # cfg['batch_size'] *= 4 if cfg['aug']['mosaic'] else 1\n",
    "\n",
    "    return cfg\n",
    "\n",
    "cfg = read_cfg()"
   ]
  },
  {
   "cell_type": "code",
   "execution_count": null,
   "metadata": {},
   "outputs": [],
   "source": [
    "dataloader = DataLoader(cfg)\n",
    "train_dataset = dataloader('train', cfg['batch_size'], aug=cfg['aug'])\n",
    "val_dataset = dataloader('val')\n",
    "\n",
    "data = []\n",
    "for e in range(4):\n",
    "    for i, (batch_images, batch_labels) in enumerate(train_dataset):\n",
    "        \n",
    "        if i==0:\n",
    "            data += [[batch_images,batch_labels]]"
   ]
  },
  {
   "cell_type": "code",
   "execution_count": null,
   "metadata": {},
   "outputs": [],
   "source": [
    "data"
   ]
  },
  {
   "cell_type": "code",
   "execution_count": null,
   "metadata": {},
   "outputs": [],
   "source": [
    "\"\"\"\n",
    "1. crop, resize_padding\n",
    "2. mosaic 구현\n",
    "3. rotate90, color_method, gaussian filter size 변경\n",
    "4. 재현성 확인\n",
    "\"\"\"\n",
    "b=4\n",
    "idx = 0\n",
    "image =(data[b][0][idx].numpy()*255).astype(np.uint8)\n",
    "labels = data[b][1]\n",
    "labels = labels[labels[..., 0] == idx].numpy().astype(np.int32)\n",
    "\n",
    "for i, x1, y1, x2, y2, c in labels:\n",
    "    cv2.rectangle(image, [x1,y1], [x2,y2], [255, 0, 0], 2)\n",
    "plt.imshow(image)\n",
    "plt.show() "
   ]
  },
  {
   "cell_type": "code",
   "execution_count": null,
   "metadata": {},
   "outputs": [],
   "source": [
    "import tensorflow as tf\n",
    "import numpy as np\n",
    "import cv2\n",
    "import matplotlib.pyplot as plt\n"
   ]
  },
  {
   "cell_type": "code",
   "execution_count": null,
   "metadata": {},
   "outputs": [],
   "source": [
    "image = np.array([np.zeros((150,3), np.float32)+i for i in range(256)])\n",
    "labels = np.array([[20,30,80,170,0.]])\n",
    "\n",
    "image_ = image.copy()\n",
    "for x1, y1, x2, y2, c in labels.astype(np.int32):\n",
    "    cv2.rectangle(image_, [x1,y1],[x2,y2], [255, 0,0], 2)\n",
    "plt.imshow((image_).astype(np.uint8))\n",
    "plt.show()"
   ]
  },
  {
   "cell_type": "code",
   "execution_count": null,
   "metadata": {},
   "outputs": [],
   "source": [
    "def rotate90(iimage, llabels, seed=42):\n",
    "    def rotate90_bboxes(lllabels, width, height):\n",
    "        if tf.reduce_sum(lllabels) != 0:\n",
    "            lllabels = tf.stack([lllabels[..., 1],\n",
    "                                width - lllabels[..., 2] -1,\n",
    "                                lllabels[..., 3],\n",
    "                                width - lllabels[..., 0] -1,\n",
    "                                lllabels[..., 4]], -1)\n",
    "        return lllabels, height, width\n",
    "    \n",
    "    times = tf.random.uniform((), minval=0, maxval=4, dtype=tf.int32, seed=seed)\n",
    "    size = tf.cast(tf.shape(iimage)[-2:-4:-1], tf.float32)\n",
    "    width, height = size[0], size[1]\n",
    "    for time in tf.range(times):\n",
    "        size = tf.shape(iimage)[-2:-4:-1]\n",
    "        llabels, width, height = rotate90_bboxes(llabels, width, height)\n",
    "    return tf.image.rot90(iimage, times), tf.constant(llabels)\n",
    "def resize(image, out_size):\n",
    "    size = tf.cast(tf.shape(image)[-2:-4:-1], tf.float32)\n",
    "    ratio = out_size/tf.reduce_max(size)\n",
    "    new_size = tf.cast(ratio * size, tf.int32)\n",
    "    resized_image = tf.image.resize(image, tf.cast(new_size, tf.int32)[::-1])\n",
    "    mult = tf.stack([*tf.unstack(ratio),*tf.unstack(ratio),1.])\n",
    "\n",
    "    return resized_image\n",
    "image = cv2.imread('data/custom/train/JPEGImages/1.jpg').astype(np.float32)[..., ::-1]\n",
    "image = resize(image, tf.stack([512.,512.]))\n",
    "def gaussian_blur(imagei, labels, ksize=3, sigma=1, seed=42):\n",
    "    idx = tf.random.uniform((), minval=0, maxval=6, dtype=tf.int32, seed=seed)\n",
    "    ksize = [3, 5, 7, 9, 11, 13][idx]\n",
    "\n",
    "    def gaussian_kernel(size=3, sigma=1):\n",
    "        x_range = tf.range(-(size-1)//2, (size-1)//2 + 1, 1)\n",
    "        y_range = tf.range((size-1)//2, -(size-1)//2 - 1, -1)\n",
    "\n",
    "        xs, ys = tf.meshgrid(x_range, y_range)\n",
    "        kernel = tf.exp(-(xs**2 + ys**2) / (2*(sigma**2))) / (2*np.pi*(sigma**2))\n",
    "        return tf.cast(kernel / tf.reduce_sum(kernel), tf.float32)\n",
    "    kernel = gaussian_kernel(ksize, sigma)[..., None, None]\n",
    "    \n",
    "    r, g, b = tf.split(imagei, [1,1,1], -1)\n",
    "    r_blur = tf.nn.conv2d(r[None], kernel, [1,1,1,1], 'SAME')\n",
    "    g_blur = tf.nn.conv2d(g[None], kernel, [1,1,1,1], 'SAME')\n",
    "    b_blur = tf.nn.conv2d(b[None], kernel, [1,1,1,1], 'SAME')\n",
    "\n",
    "    blur_image = tf.concat([r_blur, g_blur, b_blur], -1)[0]\n",
    "    return blur_image, labels\n",
    "image = image\n",
    "image2, labels2 = gaussian_blur(tf.constant(image), tf.constant(labels), 13)\n",
    "image_ = image2.numpy().copy()\n",
    "labels2 = labels2.numpy()\n",
    "for x1, y1, x2, y2, c in labels2.astype(np.int32):\n",
    "    cv2.rectangle(image_, [x1,y1],[x2,y2], [255, 0,0], 2)\n",
    "plt.imshow((image_).astype(np.uint8))\n",
    "plt.show()"
   ]
  },
  {
   "cell_type": "code",
   "execution_count": null,
   "metadata": {},
   "outputs": [],
   "source": [
    "image.shape"
   ]
  },
  {
   "cell_type": "code",
   "execution_count": 1,
   "metadata": {},
   "outputs": [
    {
     "data": {
      "text/plain": [
       "0.01"
      ]
     },
     "execution_count": 1,
     "metadata": {},
     "output_type": "execute_result"
    },
    {
     "data": {
      "image/png": "[encoded data removed]",
      "text/plain": [
       "<Figure size 640x480 with 1 Axes>"
      ]
     },
     "metadata": {},
     "output_type": "display_data"
    }
   ],
   "source": [
    "import matplotlib.pyplot as plt\n",
    "import numpy as np\n",
    "import yaml\n",
    "from utils.lr_utils import LR_scheduler\n",
    "\n",
    "with open('yaml/config.yaml') as f:\n",
    "    cfg = yaml.load(f, Loader=yaml.FullLoader)\n",
    "cfg['train']['lr_scheduler']['name'] = 'cosine_annealing_warm_restart'\n",
    "cfg['train']['lr_scheduler']['warmup_epochs']=1\n",
    "\n",
    "epochs=2\n",
    "step_per_epoch = 100\n",
    "lr_scheduler = LR_scheduler(cfg['train']['lr_scheduler'], epochs, step_per_epoch)\n",
    "\n",
    "steps = []\n",
    "lrs = []\n",
    "start_epoch = 1\n",
    "step = (start_epoch-1)*step_per_epoch+1\n",
    "\n",
    "for epoch in range(start_epoch, epochs+1):\n",
    "    for _ in range(step_per_epoch):\n",
    "        steps += [step]\n",
    "        lrs += [lr_scheduler(step)]\n",
    "        step += 1\n",
    "\n",
    "plt.plot(steps, lrs)\n",
    "plt.grid(True)\n",
    "max(lrs)"
   ]
  },
  {
   "cell_type": "code",
   "execution_count": null,
   "metadata": {},
   "outputs": [],
   "source": [
    "plt.plot(steps, t)\n",
    "plt.grid(True)"
   ]
  },
  {
   "cell_type": "code",
   "execution_count": null,
   "metadata": {},
   "outputs": [],
   "source": [
    "lrs[-1]"
   ]
  },
  {
   "cell_type": "code",
   "execution_count": null,
   "metadata": {},
   "outputs": [],
   "source": [
    "import numpy as np\n",
    "import matplotlib.pyplot as plt\n",
    "\n",
    "def cosine_annealing(t, min_lr, max_lr, t_max):\n",
    "    return min_lr + 0.5 * (max_lr - min_lr) * (1 + np.cos(t / t_max * np.pi))\n",
    "\n",
    "t_values = np.arange(0, 1000, 1)  # 학습 단계는 0부터 99까지\n",
    "min_lr = 0.001  # 최소 학습률\n",
    "max_lr = 0.01   # 최대 학습률\n",
    "t_max = 50      # 주기\n",
    "\n",
    "lr_values = cosine_annealing(t_values, min_lr, max_lr, t_max)\n",
    "\n",
    "plt.plot(t_values, lr_values)\n",
    "plt.xlabel('학습 단계 (t)')\n",
    "plt.ylabel('학습률')\n",
    "plt.title('Cosine Annealing Learning Rate Schedule')\n",
    "plt.grid(True)\n",
    "plt.show()\n"
   ]
  },
  {
   "cell_type": "code",
   "execution_count": null,
   "metadata": {},
   "outputs": [],
   "source": [
    "import numpy as np\n",
    "import matplotlib.pyplot as plt\n",
    "\n",
    "def cosine_annealing(t, min_lr, max_lr, t_max):\n",
    "    return min_lr + 0.5 * (max_lr - min_lr) * (1 + np.cos(t / t_max * np.pi))\n",
    "\n",
    "t_values = np.arange(0, 300, 1)  # 학습 단계는 0부터 99까지\n",
    "min_lr = 0.001  # 최소 학습률\n",
    "max_lr = 0.01   # 최대 학습률\n",
    "t_max = 50      # 초기 주기\n",
    "t_max_increment = 0.00  # 주기 증가량\n",
    "\n",
    "lr_values = []\n",
    "for t in t_values:\n",
    "    lr_values.append(cosine_annealing(t, min_lr, max_lr, t_max))\n",
    "    if t % t_max == 0 and t != 0:\n",
    "        t_max += t_max * t_max_increment  # 주기를 조금씩 증가시킴\n",
    "\n",
    "plt.plot(t_values, lr_values)\n",
    "plt.xlabel('학습 단계 (t)')\n",
    "plt.ylabel('학습률')\n",
    "plt.title('Cosine Annealing Learning Rate Schedule')\n",
    "plt.grid(True)\n",
    "plt.show()\n"
   ]
  },
  {
   "cell_type": "code",
   "execution_count": null,
   "metadata": {},
   "outputs": [],
   "source": [
    "import tensorflow as tf\n",
    "from utils.aug_utils import resize_padding, resize, resize_padding_without_labels\n",
    "import numpy as np\n",
    "import cv2\n",
    "import matplotlib.pyplot as plt\n",
    "\n",
    "image = np.zeros((200,100,3), np.float32) + 128\n",
    "labels = np.array([[20,70,50,100,0],[50,100,80,130,0]], np.float32)\n",
    "image_ = image.astype(np.uint8)\n",
    "for x1,y1,x2,y2,c in labels.astype(np.int32):\n",
    "    cv2.rectangle(image_, [x1,y1], [x2,y2], [255, 0, 0], 2)\n",
    "plt.imshow(image_)\n",
    "plt.show()"
   ]
  },
  {
   "cell_type": "code",
   "execution_count": null,
   "metadata": {},
   "outputs": [],
   "source": [
    "imager, labelsr = resize_padding_without_labels(image, tf.constant([512, 512], tf.float32))\n",
    "image_ = imager.numpy().astype(np.uint8)\n",
    "# for x1,y1,x2,y2,c in labelsr.numpy().astype(np.int32):\n",
    "#     cv2.rectangle(image_, [x1,y1], [x2,y2], [255, 0, 0], 2)\n",
    "plt.imshow(image_)\n",
    "plt.show()"
   ]
  },
  {
   "cell_type": "code",
   "execution_count": null,
   "metadata": {},
   "outputs": [],
   "source": [
    "def crop(image, labels, xyxy=None, seed=42):\n",
    "    if xyxy is None:\n",
    "        size = tf.cast(tf.shape(image)[-2:-4:-1], tf.float32)\n",
    "        x1, y1 = tf.unstack(tf.cast(tf.random.uniform([2], minval=[0,0], maxval=size//3, seed=seed), tf.int32))\n",
    "        x2, y2 = tf.unstack(tf.cast(tf.random.uniform([2], minval=size//3*2, maxval=size, seed=seed), tf.int32))\n",
    "    else:\n",
    "        x1, y1, x2, y2 = tf.unstack(xyxy)\n",
    "    \n",
    "    crop_image = image[y1:y2, x1:x2]\n",
    "    flag = tf.logical_and(tf.reduce_all(labelsr[..., 2:4] > [x1, y1], -1),\n",
    "                           tf.reduce_all(labelsr[..., :2] < [x2, y2], -1))\n",
    "    filtered_labels = labels[flag]\n",
    "    crop_labels = tf.concat([tf.maximum(filtered_labels[..., :2] - [x1, y1], 0),\n",
    "                             filtered_labels[..., 2:4] - [x1, y1] - tf.maximum(filtered_labels[..., 2:4] - [x2, y2], 0),\n",
    "                             filtered_labels[..., 4:]], -1)\n",
    "    return crop_image, crop_labels"
   ]
  },
  {
   "cell_type": "code",
   "execution_count": null,
   "metadata": {},
   "outputs": [],
   "source": [
    "xyxy = np.array([100, 50, 300, 150])\n",
    "imagec, labelsc = crop(image_, labelsr)\n",
    "imagecc = imagec.astype(np.uint8)\n",
    "for x1, y1, x2, y2, c in labelsc.numpy().astype(np.int32):\n",
    "    cv2.rectangle(imagecc, [x1,y1], [x2,y2], [0, 0, 255], 1)\n",
    "plt.imshow(imagecc)\n",
    "plt.show()"
   ]
  },
  {
   "cell_type": "code",
   "execution_count": null,
   "metadata": {},
   "outputs": [],
   "source": [
    "imager[y1:y2, x1:x2].shape"
   ]
  },
  {
   "cell_type": "code",
   "execution_count": null,
   "metadata": {},
   "outputs": [],
   "source": [
    "\n",
    "image_ = imagec.astype(np.uint8)\n",
    "plt.imshow(image_)\n",
    "plt.show()"
   ]
  },
  {
   "cell_type": "code",
   "execution_count": null,
   "metadata": {},
   "outputs": [],
   "source": [
    "import time\n",
    "import tensorflow as tf\n",
    "q=tf.constant([1])"
   ]
  },
  {
   "cell_type": "code",
   "execution_count": null,
   "metadata": {},
   "outputs": [],
   "source": [
    "f = tf.zeros([3,5], tf.float32)\n",
    "st=time.time()\n",
    "d=[]\n",
    "for idx in range(10):\n",
    "    b=[]\n",
    "    for _ in range(3):\n",
    "        a=f[i]\n",
    "        b+=[a]\n",
    "c=tf.concat([b],0)\n",
    "d += [tf.concat([tf.zeros(c.shape[:-1], dtype=tf.float32)[..., None]+idx, c], -1)]\n",
    "\n",
    "time.time()-st, tf.concat(d, 0).shape"
   ]
  },
  {
   "cell_type": "code",
   "execution_count": null,
   "metadata": {},
   "outputs": [],
   "source": [
    "f = tf.zeros([3,5], tf.float32)\n",
    "st=time.time()\n",
    "d=[]\n",
    "for idx in range(10):\n",
    "    b=[]\n",
    "    for i in range(3):\n",
    "        a=f[i]\n",
    "        b+=[tf.concat([tf.zeros(a.shape[:-1], dtype=tf.float32)[..., None]+idx, a], -1)]\n",
    "c=tf.concat([b],0)\n",
    "d += [c]\n",
    "\n",
    "time.time()-st, tf.concat(d, 0).shape"
   ]
  },
  {
   "cell_type": "code",
   "execution_count": null,
   "metadata": {},
   "outputs": [],
   "source": [
    "import numpy as np"
   ]
  },
  {
   "cell_type": "code",
   "execution_count": null,
   "metadata": {},
   "outputs": [],
   "source": [
    "a = np.array([512., 512.])\n",
    "b = np.round(a*1.2)\n",
    "c = np.round((b-512)/2)\n",
    "c, a+c"
   ]
  }
 ],
 "metadata": {
  "kernelspec": {
   "display_name": "tf28",
   "language": "python",
   "name": "python3"
  },
  "language_info": {
   "codemirror_mode": {
    "name": "ipython",
    "version": 3
   },
   "file_extension": ".py",
   "mimetype": "text/x-python",
   "name": "python",
   "nbconvert_exporter": "python",
   "pygments_lexer": "ipython3",
   "version": "3.10.11"
  }
 },
 "nbformat": 4,
 "nbformat_minor": 2
}
